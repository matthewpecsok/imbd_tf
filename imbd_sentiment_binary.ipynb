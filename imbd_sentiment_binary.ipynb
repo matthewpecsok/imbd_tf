{
  "nbformat": 4,
  "nbformat_minor": 0,
  "metadata": {
    "colab": {
      "name": "imbd_sentiment_binary.ipynb",
      "provenance": [],
      "collapsed_sections": [],
      "toc_visible": true,
      "mount_file_id": "1p2D3RqXxrDqLdm8piCAvW2nRsuboocTS",
      "authorship_tag": "ABX9TyPJxnzaL+cd3v/XAqLWP6Md",
      "include_colab_link": true
    },
    "kernelspec": {
      "name": "python3",
      "display_name": "Python 3"
    }
  },
  "cells": [
    {
      "cell_type": "markdown",
      "metadata": {
        "id": "view-in-github",
        "colab_type": "text"
      },
      "source": [
        "<a href=\"https://colab.research.google.com/github/matthewpecsok/imbd_tf/blob/main/imbd_sentiment_binary.ipynb\" target=\"_parent\"><img src=\"https://colab.research.google.com/assets/colab-badge.svg\" alt=\"Open In Colab\"/></a>"
      ]
    },
    {
      "cell_type": "markdown",
      "metadata": {
        "id": "fxZzbEVoJlXC"
      },
      "source": [
        "## imbd sentiment analysis\r\n",
        "## dnn with 2 hidden layers with various neurons\r\n",
        "## binary classification"
      ]
    },
    {
      "cell_type": "markdown",
      "metadata": {
        "id": "jC1jDuKYJFSD"
      },
      "source": [
        "This notebook uses the IMBD dataset to model sentiment with movie reviews. It is a binary classification problem. The final val dataset accuracy is ~ 89% for the best model. In this model I attempted to set the hyperparameters with a parameter grid and wrote my own code for the implementation rather than relying on packages. "
      ]
    },
    {
      "cell_type": "code",
      "metadata": {
        "id": "MdRMQ59Sx9RV"
      },
      "source": [
        "import tensorflow as tf\r\n",
        "import numpy as np\r\n",
        "import pandas as pd\r\n",
        "from sklearn.model_selection import train_test_split\r\n",
        "import matplotlib.pyplot as plt\r\n",
        "from sklearn.model_selection import ParameterGrid\r\n",
        "import gc\r\n"
      ],
      "execution_count": 40,
      "outputs": []
    },
    {
      "cell_type": "code",
      "metadata": {
        "colab": {
          "base_uri": "https://localhost:8080/"
        },
        "id": "PdAC35RTyHFl",
        "outputId": "027312f2-cc21-4b81-8bd8-3987376dffc9"
      },
      "source": [
        "(X_train, y_train), (X_test, y_test) = tf.keras.datasets.imdb.load_data(num_words=10000)"
      ],
      "execution_count": 2,
      "outputs": [
        {
          "output_type": "stream",
          "text": [
            "<string>:6: VisibleDeprecationWarning: Creating an ndarray from ragged nested sequences (which is a list-or-tuple of lists-or-tuples-or ndarrays with different lengths or shapes) is deprecated. If you meant to do this, you must specify 'dtype=object' when creating the ndarray\n",
            "/usr/local/lib/python3.6/dist-packages/tensorflow/python/keras/datasets/imdb.py:159: VisibleDeprecationWarning: Creating an ndarray from ragged nested sequences (which is a list-or-tuple of lists-or-tuples-or ndarrays with different lengths or shapes) is deprecated. If you meant to do this, you must specify 'dtype=object' when creating the ndarray\n",
            "  x_train, y_train = np.array(xs[:idx]), np.array(labels[:idx])\n",
            "/usr/local/lib/python3.6/dist-packages/tensorflow/python/keras/datasets/imdb.py:160: VisibleDeprecationWarning: Creating an ndarray from ragged nested sequences (which is a list-or-tuple of lists-or-tuples-or ndarrays with different lengths or shapes) is deprecated. If you meant to do this, you must specify 'dtype=object' when creating the ndarray\n",
            "  x_test, y_test = np.array(xs[idx:]), np.array(labels[idx:])\n"
          ],
          "name": "stderr"
        }
      ]
    },
    {
      "cell_type": "code",
      "metadata": {
        "id": "hnGgvbKGzsfM"
      },
      "source": [
        "word_index = tf.keras.datasets.imdb.get_word_index()"
      ],
      "execution_count": 3,
      "outputs": []
    },
    {
      "cell_type": "code",
      "metadata": {
        "colab": {
          "base_uri": "https://localhost:8080/"
        },
        "id": "Mz6WrnOI0Dlj",
        "outputId": "41f4f6ca-2446-4866-91c3-0d08c3005cab"
      },
      "source": [
        "word_index['fawn']"
      ],
      "execution_count": 4,
      "outputs": [
        {
          "output_type": "execute_result",
          "data": {
            "text/plain": [
              "34701"
            ]
          },
          "metadata": {
            "tags": []
          },
          "execution_count": 4
        }
      ]
    },
    {
      "cell_type": "code",
      "metadata": {
        "id": "YF2PXifL0YQt"
      },
      "source": [
        "# why in the world it's indexed by word?\r\n",
        "reverse_word_index = dict([(value,key) for (key,value) in word_index.items()])"
      ],
      "execution_count": 5,
      "outputs": []
    },
    {
      "cell_type": "code",
      "metadata": {
        "colab": {
          "base_uri": "https://localhost:8080/",
          "height": 35
        },
        "id": "z6bGbxtG0rGU",
        "outputId": "38835918-b1b2-4912-d2ed-c675f99a36a5"
      },
      "source": [
        "reverse_word_index[4]"
      ],
      "execution_count": 6,
      "outputs": [
        {
          "output_type": "execute_result",
          "data": {
            "application/vnd.google.colaboratory.intrinsic+json": {
              "type": "string"
            },
            "text/plain": [
              "'of'"
            ]
          },
          "metadata": {
            "tags": []
          },
          "execution_count": 6
        }
      ]
    },
    {
      "cell_type": "code",
      "metadata": {
        "colab": {
          "base_uri": "https://localhost:8080/",
          "height": 35
        },
        "id": "ZFX1i8S72Thh",
        "outputId": "ac509fda-2045-40c1-9937-8b6b3e8d3ca0"
      },
      "source": [
        "reverse_word_index[1]"
      ],
      "execution_count": 7,
      "outputs": [
        {
          "output_type": "execute_result",
          "data": {
            "application/vnd.google.colaboratory.intrinsic+json": {
              "type": "string"
            },
            "text/plain": [
              "'the'"
            ]
          },
          "metadata": {
            "tags": []
          },
          "execution_count": 7
        }
      ]
    },
    {
      "cell_type": "code",
      "metadata": {
        "colab": {
          "base_uri": "https://localhost:8080/"
        },
        "id": "sP9KMwIq0wyg",
        "outputId": "08706064-bbe0-48ce-f0a5-0273b5c87111"
      },
      "source": [
        "min([max(sequence) for sequence in X_train])"
      ],
      "execution_count": 8,
      "outputs": [
        {
          "output_type": "execute_result",
          "data": {
            "text/plain": [
              "394"
            ]
          },
          "metadata": {
            "tags": []
          },
          "execution_count": 8
        }
      ]
    },
    {
      "cell_type": "code",
      "metadata": {
        "colab": {
          "base_uri": "https://localhost:8080/",
          "height": 402
        },
        "id": "A7V-kzFO13PE",
        "outputId": "5fa0a9a5-caf7-4d82-e731-112029f33461"
      },
      "source": [
        "pd.DataFrame(X_train)"
      ],
      "execution_count": 9,
      "outputs": [
        {
          "output_type": "execute_result",
          "data": {
            "text/html": [
              "<div>\n",
              "<style scoped>\n",
              "    .dataframe tbody tr th:only-of-type {\n",
              "        vertical-align: middle;\n",
              "    }\n",
              "\n",
              "    .dataframe tbody tr th {\n",
              "        vertical-align: top;\n",
              "    }\n",
              "\n",
              "    .dataframe thead th {\n",
              "        text-align: right;\n",
              "    }\n",
              "</style>\n",
              "<table border=\"1\" class=\"dataframe\">\n",
              "  <thead>\n",
              "    <tr style=\"text-align: right;\">\n",
              "      <th></th>\n",
              "      <th>0</th>\n",
              "    </tr>\n",
              "  </thead>\n",
              "  <tbody>\n",
              "    <tr>\n",
              "      <th>0</th>\n",
              "      <td>[1, 14, 22, 16, 43, 530, 973, 1622, 1385, 65, ...</td>\n",
              "    </tr>\n",
              "    <tr>\n",
              "      <th>1</th>\n",
              "      <td>[1, 194, 1153, 194, 8255, 78, 228, 5, 6, 1463,...</td>\n",
              "    </tr>\n",
              "    <tr>\n",
              "      <th>2</th>\n",
              "      <td>[1, 14, 47, 8, 30, 31, 7, 4, 249, 108, 7, 4, 5...</td>\n",
              "    </tr>\n",
              "    <tr>\n",
              "      <th>3</th>\n",
              "      <td>[1, 4, 2, 2, 33, 2804, 4, 2040, 432, 111, 153,...</td>\n",
              "    </tr>\n",
              "    <tr>\n",
              "      <th>4</th>\n",
              "      <td>[1, 249, 1323, 7, 61, 113, 10, 10, 13, 1637, 1...</td>\n",
              "    </tr>\n",
              "    <tr>\n",
              "      <th>...</th>\n",
              "      <td>...</td>\n",
              "    </tr>\n",
              "    <tr>\n",
              "      <th>24995</th>\n",
              "      <td>[1, 14, 9, 6, 2758, 20, 21, 1517, 7, 2078, 5, ...</td>\n",
              "    </tr>\n",
              "    <tr>\n",
              "      <th>24996</th>\n",
              "      <td>[1, 4679, 2784, 299, 6, 1042, 37, 80, 81, 233,...</td>\n",
              "    </tr>\n",
              "    <tr>\n",
              "      <th>24997</th>\n",
              "      <td>[1, 11, 6, 230, 245, 6401, 9, 6, 1225, 446, 2,...</td>\n",
              "    </tr>\n",
              "    <tr>\n",
              "      <th>24998</th>\n",
              "      <td>[1, 1446, 7079, 69, 72, 3305, 13, 610, 930, 8,...</td>\n",
              "    </tr>\n",
              "    <tr>\n",
              "      <th>24999</th>\n",
              "      <td>[1, 17, 6, 194, 337, 7, 4, 204, 22, 45, 254, 8...</td>\n",
              "    </tr>\n",
              "  </tbody>\n",
              "</table>\n",
              "<p>25000 rows × 1 columns</p>\n",
              "</div>"
            ],
            "text/plain": [
              "                                                       0\n",
              "0      [1, 14, 22, 16, 43, 530, 973, 1622, 1385, 65, ...\n",
              "1      [1, 194, 1153, 194, 8255, 78, 228, 5, 6, 1463,...\n",
              "2      [1, 14, 47, 8, 30, 31, 7, 4, 249, 108, 7, 4, 5...\n",
              "3      [1, 4, 2, 2, 33, 2804, 4, 2040, 432, 111, 153,...\n",
              "4      [1, 249, 1323, 7, 61, 113, 10, 10, 13, 1637, 1...\n",
              "...                                                  ...\n",
              "24995  [1, 14, 9, 6, 2758, 20, 21, 1517, 7, 2078, 5, ...\n",
              "24996  [1, 4679, 2784, 299, 6, 1042, 37, 80, 81, 233,...\n",
              "24997  [1, 11, 6, 230, 245, 6401, 9, 6, 1225, 446, 2,...\n",
              "24998  [1, 1446, 7079, 69, 72, 3305, 13, 610, 930, 8,...\n",
              "24999  [1, 17, 6, 194, 337, 7, 4, 204, 22, 45, 254, 8...\n",
              "\n",
              "[25000 rows x 1 columns]"
            ]
          },
          "metadata": {
            "tags": []
          },
          "execution_count": 9
        }
      ]
    },
    {
      "cell_type": "code",
      "metadata": {
        "colab": {
          "base_uri": "https://localhost:8080/"
        },
        "id": "GxR6Vyu9yYVE",
        "outputId": "d1802417-3628-4609-c3a9-6a3ae168d89f"
      },
      "source": [
        "np.sum(y_train)/y_train.shape[0]"
      ],
      "execution_count": 10,
      "outputs": [
        {
          "output_type": "execute_result",
          "data": {
            "text/plain": [
              "0.5"
            ]
          },
          "metadata": {
            "tags": []
          },
          "execution_count": 10
        }
      ]
    },
    {
      "cell_type": "markdown",
      "metadata": {
        "id": "qxvNKrFe4aSq"
      },
      "source": [
        "# encode fun"
      ]
    },
    {
      "cell_type": "code",
      "metadata": {
        "id": "NZ0PF06U3dCS"
      },
      "source": [
        "def vector_seq(seq,dim=10000):\r\n",
        "  res = np.zeros((len(seq),dim))\r\n",
        "  for i, seq in enumerate(seq):\r\n",
        "    res[i,seq] = 1.\r\n",
        "  return(res)"
      ],
      "execution_count": 11,
      "outputs": []
    },
    {
      "cell_type": "markdown",
      "metadata": {
        "id": "fnk7OxHd4Yf9"
      },
      "source": [
        "# encode"
      ]
    },
    {
      "cell_type": "code",
      "metadata": {
        "id": "OEstbvB7353J"
      },
      "source": [
        "X_train = vector_seq(X_train)\r\n",
        "X_test = vector_seq(X_test)"
      ],
      "execution_count": 12,
      "outputs": []
    },
    {
      "cell_type": "markdown",
      "metadata": {
        "id": "i10bJMC84wXA"
      },
      "source": [
        "we have an array of 25,000 rows and 10,000 columns. columns are words, rows are documents"
      ]
    },
    {
      "cell_type": "code",
      "metadata": {
        "colab": {
          "base_uri": "https://localhost:8080/"
        },
        "id": "soVXs1n66QQE",
        "outputId": "5ca0f6b6-2445-48d7-81c4-6fd8688b4674"
      },
      "source": [
        "y_train.dtype"
      ],
      "execution_count": 13,
      "outputs": [
        {
          "output_type": "execute_result",
          "data": {
            "text/plain": [
              "dtype('int64')"
            ]
          },
          "metadata": {
            "tags": []
          },
          "execution_count": 13
        }
      ]
    },
    {
      "cell_type": "code",
      "metadata": {
        "colab": {
          "base_uri": "https://localhost:8080/"
        },
        "id": "Ao4nZE1t6w6d",
        "outputId": "6bbd3082-5334-4c6b-ebff-5e2fcede3670"
      },
      "source": [
        "type(y_train)"
      ],
      "execution_count": 14,
      "outputs": [
        {
          "output_type": "execute_result",
          "data": {
            "text/plain": [
              "numpy.ndarray"
            ]
          },
          "metadata": {
            "tags": []
          },
          "execution_count": 14
        }
      ]
    },
    {
      "cell_type": "code",
      "metadata": {
        "id": "9PLAqkUW5BjF"
      },
      "source": [
        "y_train = np.asarray(y_train).astype('float32')\r\n",
        "y_test = np.asarray(y_test).astype('float32')"
      ],
      "execution_count": 15,
      "outputs": []
    },
    {
      "cell_type": "markdown",
      "metadata": {
        "id": "NuIo36mG9vWS"
      },
      "source": [
        "# relu activation testing"
      ]
    },
    {
      "cell_type": "code",
      "metadata": {
        "colab": {
          "base_uri": "https://localhost:8080/"
        },
        "id": "lYVFXboE6OeE",
        "outputId": "2519fd6b-5947-47d1-b9d8-814dcf565b2c"
      },
      "source": [
        "y_train.dtype"
      ],
      "execution_count": 16,
      "outputs": [
        {
          "output_type": "execute_result",
          "data": {
            "text/plain": [
              "dtype('float32')"
            ]
          },
          "metadata": {
            "tags": []
          },
          "execution_count": 16
        }
      ]
    },
    {
      "cell_type": "code",
      "metadata": {
        "colab": {
          "base_uri": "https://localhost:8080/"
        },
        "id": "67pGwkC96tjP",
        "outputId": "b67815d3-2302-4ad3-df44-1b1a722d5fb8"
      },
      "source": [
        "type(y_train)"
      ],
      "execution_count": 17,
      "outputs": [
        {
          "output_type": "execute_result",
          "data": {
            "text/plain": [
              "numpy.ndarray"
            ]
          },
          "metadata": {
            "tags": []
          },
          "execution_count": 17
        }
      ]
    },
    {
      "cell_type": "code",
      "metadata": {
        "colab": {
          "base_uri": "https://localhost:8080/"
        },
        "id": "OKn3g3N67-Ep",
        "outputId": "3ef79b11-da98-402f-9efb-6d46bb3d9dc6"
      },
      "source": [
        "np.dot((1,2),(2,3))"
      ],
      "execution_count": 18,
      "outputs": [
        {
          "output_type": "execute_result",
          "data": {
            "text/plain": [
              "8"
            ]
          },
          "metadata": {
            "tags": []
          },
          "execution_count": 18
        }
      ]
    },
    {
      "cell_type": "code",
      "metadata": {
        "colab": {
          "base_uri": "https://localhost:8080/"
        },
        "id": "h5ZZSL377kHP",
        "outputId": "98632f00-160c-47c3-9392-306cba49e86e"
      },
      "source": [
        "tf.keras.activations.relu(np.dot((1,2,3,4),(2,3,4,5)))"
      ],
      "execution_count": 19,
      "outputs": [
        {
          "output_type": "execute_result",
          "data": {
            "text/plain": [
              "<tf.Tensor: shape=(), dtype=int64, numpy=40>"
            ]
          },
          "metadata": {
            "tags": []
          },
          "execution_count": 19
        }
      ]
    },
    {
      "cell_type": "code",
      "metadata": {
        "colab": {
          "base_uri": "https://localhost:8080/"
        },
        "id": "i5OIpJBW8H85",
        "outputId": "ba7aa88d-00e4-46d3-f84b-4eb98071a5d3"
      },
      "source": [
        "tf.keras.activations.relu(np.dot((1,2,3,4),(2,3,4,5)))"
      ],
      "execution_count": 20,
      "outputs": [
        {
          "output_type": "execute_result",
          "data": {
            "text/plain": [
              "<tf.Tensor: shape=(), dtype=int64, numpy=40>"
            ]
          },
          "metadata": {
            "tags": []
          },
          "execution_count": 20
        }
      ]
    },
    {
      "cell_type": "code",
      "metadata": {
        "colab": {
          "base_uri": "https://localhost:8080/"
        },
        "id": "l_SIFOVl826D",
        "outputId": "28289239-1b4c-45dd-b7c8-bd96ff90317d"
      },
      "source": [
        "tf.keras.activations.relu(-5)"
      ],
      "execution_count": 21,
      "outputs": [
        {
          "output_type": "execute_result",
          "data": {
            "text/plain": [
              "<tf.Tensor: shape=(), dtype=int32, numpy=0>"
            ]
          },
          "metadata": {
            "tags": []
          },
          "execution_count": 21
        }
      ]
    },
    {
      "cell_type": "code",
      "metadata": {
        "colab": {
          "base_uri": "https://localhost:8080/"
        },
        "id": "CQvytzrh89_r",
        "outputId": "9e8d7119-68ea-4b2e-ca41-ade915020064"
      },
      "source": [
        "tf.keras.activations.relu(5)"
      ],
      "execution_count": 22,
      "outputs": [
        {
          "output_type": "execute_result",
          "data": {
            "text/plain": [
              "<tf.Tensor: shape=(), dtype=int32, numpy=5>"
            ]
          },
          "metadata": {
            "tags": []
          },
          "execution_count": 22
        }
      ]
    },
    {
      "cell_type": "markdown",
      "metadata": {
        "id": "82WWBGNn926H"
      },
      "source": [
        "# model building"
      ]
    },
    {
      "cell_type": "markdown",
      "metadata": {
        "id": "WDMcD45EVFDG"
      },
      "source": [
        "## model function"
      ]
    },
    {
      "cell_type": "code",
      "metadata": {
        "id": "UqLBGnPG9-Tp"
      },
      "source": [
        "def model_create(param_grid,X_train,y_train,verbose):\r\n",
        "  model = tf.keras.models.Sequential()\r\n",
        "\r\n",
        "  model.add(tf.keras.layers.Dense(param_grid['neurons'],activation=tf.keras.activations.relu,input_shape=(10000,)))\r\n",
        "  model.add(tf.keras.layers.Dense(param_grid['neurons'],activation=tf.keras.activations.relu))\r\n",
        "  model.add(tf.keras.layers.Dense(1,activation=tf.keras.activations.sigmoid))\r\n",
        "\r\n",
        "  model.compile(optimizer=tf.keras.optimizers.RMSprop(learning_rate=param_grid['learning_rate']),loss=tf.keras.losses.binary_crossentropy,metrics=['accuracy'])\r\n",
        "\r\n",
        "  history = model.fit(X_train,y_train,validation_split=.2, epochs=10,verbose=verbose)\r\n",
        "  return history,model,np.round(np.max(history.history['val_accuracy']),2)\r\n"
      ],
      "execution_count": 49,
      "outputs": []
    },
    {
      "cell_type": "markdown",
      "metadata": {
        "id": "NjZdooEKVGeS"
      },
      "source": [
        "## grid setups"
      ]
    },
    {
      "cell_type": "code",
      "metadata": {
        "colab": {
          "base_uri": "https://localhost:8080/"
        },
        "id": "Bg7sgwxn_5ON",
        "outputId": "2f3bbc9c-b4bd-49ad-bf93-ec318c23f017"
      },
      "source": [
        "from sklearn.model_selection import ParameterSampler\r\n",
        "from scipy.stats.distributions import expon\r\n",
        "import numpy as np\r\n",
        "\r\n",
        "## number of grid rows\r\n",
        "grid_rows = 10\r\n",
        "\r\n",
        "# this code generates far more \r\n",
        "# parameter options than needed\r\n",
        "# so we use the parameter sampler to grab some  \r\n",
        "\r\n",
        "rng = np.random.RandomState(0)\r\n",
        "param_grid = {'neurons':np.linspace(1,1000,1000), 'learning_rate': np.linspace(0.001,0.1,50)}\r\n",
        "param_list = list(ParameterSampler(param_grid, n_iter=grid_rows,\r\n",
        "                                   random_state=rng))\r\n",
        "\r\n",
        "param_list"
      ],
      "execution_count": 44,
      "outputs": [
        {
          "output_type": "execute_result",
          "data": {
            "text/plain": [
              "[{'learning_rate': 0.0050408163265306125, 'neurons': 733.0},\n",
              " {'learning_rate': 0.08787755102040817, 'neurons': 568.0},\n",
              " {'learning_rate': 0.08585714285714287, 'neurons': 614.0},\n",
              " {'learning_rate': 0.09191836734693878, 'neurons': 892.0},\n",
              " {'learning_rate': 0.043428571428571434, 'neurons': 244.0},\n",
              " {'learning_rate': 0.06161224489795919, 'neurons': 404.0},\n",
              " {'learning_rate': 0.0656530612244898, 'neurons': 104.0},\n",
              " {'learning_rate': 0.08383673469387756, 'neurons': 994.0},\n",
              " {'learning_rate': 0.04140816326530612, 'neurons': 758.0},\n",
              " {'learning_rate': 0.09393877551020409, 'neurons': 885.0}]"
            ]
          },
          "metadata": {
            "tags": []
          },
          "execution_count": 44
        }
      ]
    },
    {
      "cell_type": "code",
      "metadata": {
        "colab": {
          "base_uri": "https://localhost:8080/"
        },
        "id": "N_5xZTP4F7Wc",
        "outputId": "2b4d12a7-6901-40a3-d670-b85af77a0d2e"
      },
      "source": [
        "np.linspace(2,10,9)"
      ],
      "execution_count": 104,
      "outputs": [
        {
          "output_type": "execute_result",
          "data": {
            "text/plain": [
              "array([ 2.,  3.,  4.,  5.,  6.,  7.,  8.,  9., 10.])"
            ]
          },
          "metadata": {
            "tags": []
          },
          "execution_count": 104
        }
      ]
    },
    {
      "cell_type": "code",
      "metadata": {
        "id": "LWLB7_jAXh_U"
      },
      "source": [
        "model_output = pd.DataFrame()"
      ],
      "execution_count": 45,
      "outputs": []
    },
    {
      "cell_type": "code",
      "metadata": {
        "colab": {
          "base_uri": "https://localhost:8080/",
          "height": 1000
        },
        "id": "wh2s6sysCzVZ",
        "outputId": "e70d7428-7c0d-443b-a5d7-8d8c87f702f2"
      },
      "source": [
        "for i in param_list:\r\n",
        "  history,model,val_acc = model_create(i,X_train,y_train,1)\r\n",
        "  print(val_acc)\r\n",
        "  new_row = dict()\r\n",
        "  new_row = {'model':model,'history':history,'acc':val_acc}\r\n",
        "  model_output = model_output.append(new_row,ignore_index=True)\r\n",
        "\r\n",
        "model_output = model_output.join(pd.DataFrame(param_list))\r\n",
        "\r\n",
        "model_output"
      ],
      "execution_count": 50,
      "outputs": [
        {
          "output_type": "stream",
          "text": [
            "Epoch 1/10\n",
            "625/625 [==============================] - 51s 81ms/step - loss: 0.7334 - accuracy: 0.8125 - val_loss: 0.3052 - val_accuracy: 0.8850\n",
            "Epoch 2/10\n",
            "625/625 [==============================] - 50s 81ms/step - loss: 0.2195 - accuracy: 0.9227 - val_loss: 0.4331 - val_accuracy: 0.8832\n",
            "Epoch 3/10\n",
            "625/625 [==============================] - 50s 81ms/step - loss: 0.1638 - accuracy: 0.9523 - val_loss: 0.4611 - val_accuracy: 0.8822\n",
            "Epoch 4/10\n",
            "625/625 [==============================] - 51s 81ms/step - loss: 0.1215 - accuracy: 0.9659 - val_loss: 1.6910 - val_accuracy: 0.8552\n",
            "Epoch 5/10\n",
            "625/625 [==============================] - 51s 82ms/step - loss: 0.1149 - accuracy: 0.9782 - val_loss: 2.1050 - val_accuracy: 0.8796\n",
            "Epoch 6/10\n",
            "625/625 [==============================] - 51s 81ms/step - loss: 0.0764 - accuracy: 0.9872 - val_loss: 2.8747 - val_accuracy: 0.8814\n",
            "Epoch 7/10\n",
            "625/625 [==============================] - 51s 81ms/step - loss: 0.0659 - accuracy: 0.9930 - val_loss: 5.0698 - val_accuracy: 0.8806\n",
            "Epoch 8/10\n",
            "625/625 [==============================] - 51s 81ms/step - loss: 0.1089 - accuracy: 0.9946 - val_loss: 7.5222 - val_accuracy: 0.8730\n",
            "Epoch 9/10\n",
            "625/625 [==============================] - 51s 82ms/step - loss: 0.1378 - accuracy: 0.9944 - val_loss: 12.4473 - val_accuracy: 0.8758\n",
            "Epoch 10/10\n",
            "625/625 [==============================] - 51s 82ms/step - loss: 0.1713 - accuracy: 0.9967 - val_loss: 11.3192 - val_accuracy: 0.8652\n",
            "0.88\n",
            "Epoch 1/10\n",
            "625/625 [==============================] - 41s 65ms/step - loss: 690.8934 - accuracy: 0.6188 - val_loss: 1.5102 - val_accuracy: 0.7832\n",
            "Epoch 2/10\n",
            "625/625 [==============================] - 40s 65ms/step - loss: 3.0054 - accuracy: 0.7850 - val_loss: 0.6398 - val_accuracy: 0.5032\n",
            "Epoch 3/10\n",
            "625/625 [==============================] - 40s 64ms/step - loss: 0.8845 - accuracy: 0.6262 - val_loss: 0.6922 - val_accuracy: 0.4938\n",
            "Epoch 4/10\n",
            "625/625 [==============================] - 40s 64ms/step - loss: 0.8867 - accuracy: 0.5694 - val_loss: 0.6854 - val_accuracy: 0.5198\n",
            "Epoch 5/10\n",
            "625/625 [==============================] - 40s 64ms/step - loss: 0.9898 - accuracy: 0.5248 - val_loss: 0.6960 - val_accuracy: 0.4940\n",
            "Epoch 6/10\n",
            "625/625 [==============================] - 40s 64ms/step - loss: 0.8129 - accuracy: 0.5336 - val_loss: 0.7222 - val_accuracy: 0.5280\n",
            "Epoch 7/10\n",
            "625/625 [==============================] - 40s 64ms/step - loss: 0.9679 - accuracy: 0.5258 - val_loss: 0.6888 - val_accuracy: 0.5126\n",
            "Epoch 8/10\n",
            "625/625 [==============================] - 41s 65ms/step - loss: 1.5391 - accuracy: 0.5564 - val_loss: 1.2080 - val_accuracy: 0.6740\n",
            "Epoch 9/10\n",
            "625/625 [==============================] - 41s 65ms/step - loss: 1.1117 - accuracy: 0.5711 - val_loss: 0.6323 - val_accuracy: 0.5898\n",
            "Epoch 10/10\n",
            "625/625 [==============================] - 40s 65ms/step - loss: 1.0486 - accuracy: 0.5714 - val_loss: 0.6913 - val_accuracy: 0.5044\n",
            "0.78\n",
            "Epoch 1/10\n",
            "625/625 [==============================] - 44s 69ms/step - loss: 452.4900 - accuracy: 0.5319 - val_loss: 0.6601 - val_accuracy: 0.5800\n",
            "Epoch 2/10\n",
            "625/625 [==============================] - 43s 69ms/step - loss: 3.2537 - accuracy: 0.6847 - val_loss: 0.4846 - val_accuracy: 0.8296\n",
            "Epoch 3/10\n",
            "625/625 [==============================] - 43s 69ms/step - loss: 1.4320 - accuracy: 0.8012 - val_loss: 0.8340 - val_accuracy: 0.8168\n",
            "Epoch 4/10\n",
            "625/625 [==============================] - 43s 69ms/step - loss: 1.2857 - accuracy: 0.8124 - val_loss: 0.6695 - val_accuracy: 0.5490\n",
            "Epoch 5/10\n",
            "625/625 [==============================] - 43s 69ms/step - loss: 0.8597 - accuracy: 0.5843 - val_loss: 0.6897 - val_accuracy: 0.4938\n",
            "Epoch 6/10\n",
            "625/625 [==============================] - 43s 70ms/step - loss: 0.7235 - accuracy: 0.5458 - val_loss: 0.6988 - val_accuracy: 0.4938\n",
            "Epoch 7/10\n",
            "625/625 [==============================] - 43s 69ms/step - loss: 0.7480 - accuracy: 0.5145 - val_loss: 3.3645 - val_accuracy: 0.6444\n",
            "Epoch 8/10\n",
            "625/625 [==============================] - 43s 69ms/step - loss: 0.8454 - accuracy: 0.5632 - val_loss: 0.6720 - val_accuracy: 0.5864\n",
            "Epoch 9/10\n",
            "625/625 [==============================] - 43s 69ms/step - loss: 0.7594 - accuracy: 0.5591 - val_loss: 1.1534 - val_accuracy: 0.5574\n",
            "Epoch 10/10\n",
            "625/625 [==============================] - 43s 69ms/step - loss: 1.1081 - accuracy: 0.5724 - val_loss: 0.7687 - val_accuracy: 0.5408\n",
            "0.83\n",
            "Epoch 1/10\n",
            "625/625 [==============================] - 62s 98ms/step - loss: 907.9683 - accuracy: 0.5419 - val_loss: 0.7833 - val_accuracy: 0.5152\n",
            "Epoch 2/10\n",
            "625/625 [==============================] - 61s 97ms/step - loss: 11.6252 - accuracy: 0.6242 - val_loss: 0.4290 - val_accuracy: 0.8174\n",
            "Epoch 3/10\n",
            "625/625 [==============================] - 61s 98ms/step - loss: 2.5450 - accuracy: 0.7951 - val_loss: 0.6079 - val_accuracy: 0.7084\n",
            "Epoch 4/10\n",
            "625/625 [==============================] - 61s 97ms/step - loss: 1.0905 - accuracy: 0.6223 - val_loss: 0.6630 - val_accuracy: 0.5426\n",
            "Epoch 5/10\n",
            "625/625 [==============================] - 61s 98ms/step - loss: 1.0236 - accuracy: 0.5735 - val_loss: 0.6938 - val_accuracy: 0.4938\n",
            "Epoch 6/10\n",
            "625/625 [==============================] - 61s 97ms/step - loss: 0.8353 - accuracy: 0.5338 - val_loss: 0.7071 - val_accuracy: 0.5212\n",
            "Epoch 7/10\n",
            "625/625 [==============================] - 61s 97ms/step - loss: 0.8487 - accuracy: 0.5439 - val_loss: 0.6914 - val_accuracy: 0.4934\n",
            "Epoch 8/10\n",
            "625/625 [==============================] - 61s 97ms/step - loss: 0.7415 - accuracy: 0.5244 - val_loss: 0.9414 - val_accuracy: 0.4976\n",
            "Epoch 9/10\n",
            "625/625 [==============================] - 61s 97ms/step - loss: 0.8718 - accuracy: 0.5280 - val_loss: 0.6711 - val_accuracy: 0.5698\n",
            "Epoch 10/10\n",
            "625/625 [==============================] - 61s 97ms/step - loss: 0.9412 - accuracy: 0.5311 - val_loss: 1.0408 - val_accuracy: 0.5452\n",
            "0.82\n",
            "Epoch 1/10\n",
            "625/625 [==============================] - 19s 29ms/step - loss: 17.0955 - accuracy: 0.7222 - val_loss: 0.4150 - val_accuracy: 0.8554\n",
            "Epoch 2/10\n",
            "625/625 [==============================] - 18s 29ms/step - loss: 0.4067 - accuracy: 0.8768 - val_loss: 0.3483 - val_accuracy: 0.8876\n",
            "Epoch 3/10\n",
            "625/625 [==============================] - 19s 30ms/step - loss: 0.3383 - accuracy: 0.9056 - val_loss: 0.4165 - val_accuracy: 0.8690\n",
            "Epoch 4/10\n",
            "625/625 [==============================] - 18s 28ms/step - loss: 0.2856 - accuracy: 0.9259 - val_loss: 0.5041 - val_accuracy: 0.8760\n",
            "Epoch 5/10\n",
            "625/625 [==============================] - 18s 28ms/step - loss: 0.2608 - accuracy: 0.9295 - val_loss: 0.7300 - val_accuracy: 0.8688\n",
            "Epoch 6/10\n",
            "625/625 [==============================] - 18s 29ms/step - loss: 0.2336 - accuracy: 0.9421 - val_loss: 0.9414 - val_accuracy: 0.8686\n",
            "Epoch 7/10\n",
            "625/625 [==============================] - 18s 28ms/step - loss: 0.2602 - accuracy: 0.9403 - val_loss: 0.9101 - val_accuracy: 0.8748\n",
            "Epoch 8/10\n",
            "625/625 [==============================] - 18s 28ms/step - loss: 0.2417 - accuracy: 0.9485 - val_loss: 1.2420 - val_accuracy: 0.8748\n",
            "Epoch 9/10\n",
            "625/625 [==============================] - 18s 29ms/step - loss: 0.2461 - accuracy: 0.9489 - val_loss: 1.2213 - val_accuracy: 0.8672\n",
            "Epoch 10/10\n",
            "625/625 [==============================] - 18s 28ms/step - loss: 0.2513 - accuracy: 0.9508 - val_loss: 2.4352 - val_accuracy: 0.8660\n",
            "0.89\n",
            "Epoch 1/10\n",
            "625/625 [==============================] - 28s 45ms/step - loss: 56.0093 - accuracy: 0.6282 - val_loss: 0.4610 - val_accuracy: 0.8300\n",
            "Epoch 2/10\n",
            "625/625 [==============================] - 28s 44ms/step - loss: 0.9101 - accuracy: 0.8287 - val_loss: 0.3713 - val_accuracy: 0.8710\n",
            "Epoch 3/10\n",
            "625/625 [==============================] - 28s 45ms/step - loss: 0.5215 - accuracy: 0.8595 - val_loss: 0.7070 - val_accuracy: 0.8670\n",
            "Epoch 4/10\n",
            "625/625 [==============================] - 28s 45ms/step - loss: 0.7326 - accuracy: 0.7955 - val_loss: 0.5878 - val_accuracy: 0.8184\n",
            "Epoch 5/10\n",
            "625/625 [==============================] - 28s 44ms/step - loss: 0.4962 - accuracy: 0.8640 - val_loss: 0.8209 - val_accuracy: 0.8694\n",
            "Epoch 6/10\n",
            "625/625 [==============================] - 28s 45ms/step - loss: 0.4731 - accuracy: 0.8633 - val_loss: 0.7632 - val_accuracy: 0.8468\n",
            "Epoch 7/10\n",
            "625/625 [==============================] - 28s 45ms/step - loss: 0.4407 - accuracy: 0.8901 - val_loss: 1.0535 - val_accuracy: 0.8338\n",
            "Epoch 8/10\n",
            "625/625 [==============================] - 28s 45ms/step - loss: 0.3755 - accuracy: 0.9050 - val_loss: 0.6052 - val_accuracy: 0.8402\n",
            "Epoch 9/10\n",
            "625/625 [==============================] - 28s 45ms/step - loss: 0.4165 - accuracy: 0.9021 - val_loss: 2.4194 - val_accuracy: 0.8332\n",
            "Epoch 10/10\n",
            "625/625 [==============================] - 28s 45ms/step - loss: 0.5112 - accuracy: 0.9061 - val_loss: 1.5631 - val_accuracy: 0.8610\n",
            "0.87\n",
            "Epoch 1/10\n",
            "625/625 [==============================] - 9s 14ms/step - loss: 5.9710 - accuracy: 0.7443 - val_loss: 0.4061 - val_accuracy: 0.8676\n",
            "Epoch 2/10\n",
            "625/625 [==============================] - 9s 14ms/step - loss: 0.4328 - accuracy: 0.8814 - val_loss: 0.3439 - val_accuracy: 0.8764\n",
            "Epoch 3/10\n",
            "625/625 [==============================] - 9s 14ms/step - loss: 0.4477 - accuracy: 0.8945 - val_loss: 2.1314 - val_accuracy: 0.7788\n",
            "Epoch 4/10\n",
            "625/625 [==============================] - 8s 14ms/step - loss: 0.4561 - accuracy: 0.9096 - val_loss: 0.6288 - val_accuracy: 0.8442\n",
            "Epoch 5/10\n",
            "625/625 [==============================] - 8s 13ms/step - loss: 0.3793 - accuracy: 0.9240 - val_loss: 0.6817 - val_accuracy: 0.8746\n",
            "Epoch 6/10\n",
            "625/625 [==============================] - 8s 14ms/step - loss: 0.3172 - accuracy: 0.9316 - val_loss: 0.8426 - val_accuracy: 0.8732\n",
            "Epoch 7/10\n",
            "625/625 [==============================] - 9s 14ms/step - loss: 0.3607 - accuracy: 0.9408 - val_loss: 1.1206 - val_accuracy: 0.8668\n",
            "Epoch 8/10\n",
            "625/625 [==============================] - 9s 14ms/step - loss: 0.3382 - accuracy: 0.9413 - val_loss: 0.9644 - val_accuracy: 0.8690\n",
            "Epoch 9/10\n",
            "625/625 [==============================] - 9s 14ms/step - loss: 0.2706 - accuracy: 0.9482 - val_loss: 1.9744 - val_accuracy: 0.8704\n",
            "Epoch 10/10\n",
            "625/625 [==============================] - 8s 14ms/step - loss: 0.3252 - accuracy: 0.9543 - val_loss: 4.0858 - val_accuracy: 0.8382\n",
            "0.88\n",
            "Epoch 1/10\n",
            "625/625 [==============================] - 70s 111ms/step - loss: 624.6154 - accuracy: 0.5646 - val_loss: 0.6518 - val_accuracy: 0.7718\n",
            "Epoch 2/10\n",
            "625/625 [==============================] - 70s 112ms/step - loss: 1.1353 - accuracy: 0.6916 - val_loss: 0.6968 - val_accuracy: 0.4938\n",
            "Epoch 3/10\n",
            "625/625 [==============================] - 69s 111ms/step - loss: 1.1175 - accuracy: 0.5468 - val_loss: 0.6923 - val_accuracy: 0.4962\n",
            "Epoch 4/10\n",
            "625/625 [==============================] - 69s 110ms/step - loss: 0.8687 - accuracy: 0.5304 - val_loss: 0.7094 - val_accuracy: 0.5760\n",
            "Epoch 5/10\n",
            "625/625 [==============================] - 69s 110ms/step - loss: 0.8922 - accuracy: 0.5434 - val_loss: 0.6991 - val_accuracy: 0.5160\n",
            "Epoch 6/10\n",
            "625/625 [==============================] - 69s 110ms/step - loss: 1.0531 - accuracy: 0.5494 - val_loss: 0.9463 - val_accuracy: 0.6100\n",
            "Epoch 7/10\n",
            "625/625 [==============================] - 69s 110ms/step - loss: 1.4615 - accuracy: 0.5679 - val_loss: 0.7054 - val_accuracy: 0.5062\n",
            "Epoch 8/10\n",
            "625/625 [==============================] - 69s 110ms/step - loss: 0.8408 - accuracy: 0.5404 - val_loss: 0.9604 - val_accuracy: 0.5722\n",
            "Epoch 9/10\n",
            "625/625 [==============================] - 69s 111ms/step - loss: 0.7549 - accuracy: 0.5488 - val_loss: 2.0177 - val_accuracy: 0.6016\n",
            "Epoch 10/10\n",
            "625/625 [==============================] - 69s 110ms/step - loss: 1.1169 - accuracy: 0.5546 - val_loss: 0.7233 - val_accuracy: 0.5238\n",
            "0.77\n",
            "Epoch 1/10\n",
            "625/625 [==============================] - 54s 86ms/step - loss: 70.5834 - accuracy: 0.6569 - val_loss: 0.4260 - val_accuracy: 0.8350\n",
            "Epoch 2/10\n",
            "625/625 [==============================] - 53s 84ms/step - loss: 0.5902 - accuracy: 0.8478 - val_loss: 0.4473 - val_accuracy: 0.8808\n",
            "Epoch 3/10\n",
            "625/625 [==============================] - 53s 85ms/step - loss: 0.4415 - accuracy: 0.8769 - val_loss: 0.6344 - val_accuracy: 0.8136\n",
            "Epoch 4/10\n",
            "625/625 [==============================] - 53s 84ms/step - loss: 0.3805 - accuracy: 0.9005 - val_loss: 0.4598 - val_accuracy: 0.8662\n",
            "Epoch 5/10\n",
            "625/625 [==============================] - 53s 84ms/step - loss: 0.4320 - accuracy: 0.9006 - val_loss: 0.6621 - val_accuracy: 0.8740\n",
            "Epoch 6/10\n",
            "625/625 [==============================] - 53s 84ms/step - loss: 0.3915 - accuracy: 0.9024 - val_loss: 1.5104 - val_accuracy: 0.8270\n",
            "Epoch 7/10\n",
            "625/625 [==============================] - 53s 84ms/step - loss: 0.5245 - accuracy: 0.9140 - val_loss: 1.9356 - val_accuracy: 0.8448\n",
            "Epoch 8/10\n",
            "625/625 [==============================] - 53s 85ms/step - loss: 0.4733 - accuracy: 0.9214 - val_loss: 4.8802 - val_accuracy: 0.8396\n",
            "Epoch 9/10\n",
            "625/625 [==============================] - 53s 85ms/step - loss: 0.5567 - accuracy: 0.9297 - val_loss: 1.6491 - val_accuracy: 0.8210\n",
            "Epoch 10/10\n",
            "625/625 [==============================] - 53s 85ms/step - loss: 0.3669 - accuracy: 0.9260 - val_loss: 3.2299 - val_accuracy: 0.8786\n",
            "0.88\n",
            "Epoch 1/10\n",
            "625/625 [==============================] - 61s 98ms/step - loss: 768.8816 - accuracy: 0.5913 - val_loss: 0.4115 - val_accuracy: 0.8244\n",
            "Epoch 2/10\n",
            "625/625 [==============================] - 62s 99ms/step - loss: 3.1311 - accuracy: 0.7081 - val_loss: 0.7188 - val_accuracy: 0.7068\n",
            "Epoch 3/10\n",
            "625/625 [==============================] - 61s 97ms/step - loss: 1.2275 - accuracy: 0.5642 - val_loss: 0.6971 - val_accuracy: 0.5314\n",
            "Epoch 4/10\n",
            "625/625 [==============================] - 61s 97ms/step - loss: 1.3868 - accuracy: 0.6104 - val_loss: 2.5750 - val_accuracy: 0.7224\n",
            "Epoch 5/10\n",
            "625/625 [==============================] - 61s 97ms/step - loss: 0.8615 - accuracy: 0.5760 - val_loss: 0.6941 - val_accuracy: 0.5062\n",
            "Epoch 6/10\n",
            "625/625 [==============================] - 61s 98ms/step - loss: 0.7047 - accuracy: 0.5483 - val_loss: 0.8731 - val_accuracy: 0.5702\n",
            "Epoch 7/10\n",
            "625/625 [==============================] - 61s 97ms/step - loss: 0.9067 - accuracy: 0.5531 - val_loss: 5.5103 - val_accuracy: 0.7162\n",
            "Epoch 8/10\n",
            "625/625 [==============================] - 61s 97ms/step - loss: 1.4102 - accuracy: 0.6068 - val_loss: 2.9250 - val_accuracy: 0.6120\n",
            "Epoch 9/10\n",
            "625/625 [==============================] - 61s 97ms/step - loss: 0.9141 - accuracy: 0.5847 - val_loss: 0.7723 - val_accuracy: 0.5062\n",
            "Epoch 10/10\n",
            "625/625 [==============================] - 61s 98ms/step - loss: 0.9504 - accuracy: 0.5667 - val_loss: 0.7989 - val_accuracy: 0.5082\n",
            "0.82\n"
          ],
          "name": "stdout"
        },
        {
          "output_type": "execute_result",
          "data": {
            "text/html": [
              "<div>\n",
              "<style scoped>\n",
              "    .dataframe tbody tr th:only-of-type {\n",
              "        vertical-align: middle;\n",
              "    }\n",
              "\n",
              "    .dataframe tbody tr th {\n",
              "        vertical-align: top;\n",
              "    }\n",
              "\n",
              "    .dataframe thead th {\n",
              "        text-align: right;\n",
              "    }\n",
              "</style>\n",
              "<table border=\"1\" class=\"dataframe\">\n",
              "  <thead>\n",
              "    <tr style=\"text-align: right;\">\n",
              "      <th></th>\n",
              "      <th>acc</th>\n",
              "      <th>history</th>\n",
              "      <th>model</th>\n",
              "    </tr>\n",
              "  </thead>\n",
              "  <tbody>\n",
              "    <tr>\n",
              "      <th>0</th>\n",
              "      <td>0.88</td>\n",
              "      <td>&lt;tensorflow.python.keras.callbacks.History obj...</td>\n",
              "      <td>&lt;tensorflow.python.keras.engine.sequential.Seq...</td>\n",
              "    </tr>\n",
              "    <tr>\n",
              "      <th>1</th>\n",
              "      <td>0.78</td>\n",
              "      <td>&lt;tensorflow.python.keras.callbacks.History obj...</td>\n",
              "      <td>&lt;tensorflow.python.keras.engine.sequential.Seq...</td>\n",
              "    </tr>\n",
              "    <tr>\n",
              "      <th>2</th>\n",
              "      <td>0.83</td>\n",
              "      <td>&lt;tensorflow.python.keras.callbacks.History obj...</td>\n",
              "      <td>&lt;tensorflow.python.keras.engine.sequential.Seq...</td>\n",
              "    </tr>\n",
              "    <tr>\n",
              "      <th>3</th>\n",
              "      <td>0.82</td>\n",
              "      <td>&lt;tensorflow.python.keras.callbacks.History obj...</td>\n",
              "      <td>&lt;tensorflow.python.keras.engine.sequential.Seq...</td>\n",
              "    </tr>\n",
              "    <tr>\n",
              "      <th>4</th>\n",
              "      <td>0.89</td>\n",
              "      <td>&lt;tensorflow.python.keras.callbacks.History obj...</td>\n",
              "      <td>&lt;tensorflow.python.keras.engine.sequential.Seq...</td>\n",
              "    </tr>\n",
              "    <tr>\n",
              "      <th>5</th>\n",
              "      <td>0.87</td>\n",
              "      <td>&lt;tensorflow.python.keras.callbacks.History obj...</td>\n",
              "      <td>&lt;tensorflow.python.keras.engine.sequential.Seq...</td>\n",
              "    </tr>\n",
              "    <tr>\n",
              "      <th>6</th>\n",
              "      <td>0.88</td>\n",
              "      <td>&lt;tensorflow.python.keras.callbacks.History obj...</td>\n",
              "      <td>&lt;tensorflow.python.keras.engine.sequential.Seq...</td>\n",
              "    </tr>\n",
              "    <tr>\n",
              "      <th>7</th>\n",
              "      <td>0.77</td>\n",
              "      <td>&lt;tensorflow.python.keras.callbacks.History obj...</td>\n",
              "      <td>&lt;tensorflow.python.keras.engine.sequential.Seq...</td>\n",
              "    </tr>\n",
              "    <tr>\n",
              "      <th>8</th>\n",
              "      <td>0.88</td>\n",
              "      <td>&lt;tensorflow.python.keras.callbacks.History obj...</td>\n",
              "      <td>&lt;tensorflow.python.keras.engine.sequential.Seq...</td>\n",
              "    </tr>\n",
              "    <tr>\n",
              "      <th>9</th>\n",
              "      <td>0.82</td>\n",
              "      <td>&lt;tensorflow.python.keras.callbacks.History obj...</td>\n",
              "      <td>&lt;tensorflow.python.keras.engine.sequential.Seq...</td>\n",
              "    </tr>\n",
              "  </tbody>\n",
              "</table>\n",
              "</div>"
            ],
            "text/plain": [
              "    acc  ...                                              model\n",
              "0  0.88  ...  <tensorflow.python.keras.engine.sequential.Seq...\n",
              "1  0.78  ...  <tensorflow.python.keras.engine.sequential.Seq...\n",
              "2  0.83  ...  <tensorflow.python.keras.engine.sequential.Seq...\n",
              "3  0.82  ...  <tensorflow.python.keras.engine.sequential.Seq...\n",
              "4  0.89  ...  <tensorflow.python.keras.engine.sequential.Seq...\n",
              "5  0.87  ...  <tensorflow.python.keras.engine.sequential.Seq...\n",
              "6  0.88  ...  <tensorflow.python.keras.engine.sequential.Seq...\n",
              "7  0.77  ...  <tensorflow.python.keras.engine.sequential.Seq...\n",
              "8  0.88  ...  <tensorflow.python.keras.engine.sequential.Seq...\n",
              "9  0.82  ...  <tensorflow.python.keras.engine.sequential.Seq...\n",
              "\n",
              "[10 rows x 3 columns]"
            ]
          },
          "metadata": {
            "tags": []
          },
          "execution_count": 50
        }
      ]
    },
    {
      "cell_type": "code",
      "metadata": {
        "colab": {
          "base_uri": "https://localhost:8080/"
        },
        "id": "v-6r0T0ejs2x",
        "outputId": "9dd0ae9d-17e0-4ea5-a8e6-6b70b04c9494"
      },
      "source": [
        "gc.collect()"
      ],
      "execution_count": 41,
      "outputs": [
        {
          "output_type": "execute_result",
          "data": {
            "text/plain": [
              "73"
            ]
          },
          "metadata": {
            "tags": []
          },
          "execution_count": 41
        }
      ]
    },
    {
      "cell_type": "code",
      "metadata": {
        "colab": {
          "base_uri": "https://localhost:8080/",
          "height": 343
        },
        "id": "3QrJsPO1jWva",
        "outputId": "85e27b8f-8612-452c-c2d6-cee2fa3f215d"
      },
      "source": [
        "model_output"
      ],
      "execution_count": 83,
      "outputs": [
        {
          "output_type": "execute_result",
          "data": {
            "text/html": [
              "<div>\n",
              "<style scoped>\n",
              "    .dataframe tbody tr th:only-of-type {\n",
              "        vertical-align: middle;\n",
              "    }\n",
              "\n",
              "    .dataframe tbody tr th {\n",
              "        vertical-align: top;\n",
              "    }\n",
              "\n",
              "    .dataframe thead th {\n",
              "        text-align: right;\n",
              "    }\n",
              "</style>\n",
              "<table border=\"1\" class=\"dataframe\">\n",
              "  <thead>\n",
              "    <tr style=\"text-align: right;\">\n",
              "      <th></th>\n",
              "      <th>acc</th>\n",
              "      <th>history</th>\n",
              "      <th>model</th>\n",
              "    </tr>\n",
              "  </thead>\n",
              "  <tbody>\n",
              "    <tr>\n",
              "      <th>0</th>\n",
              "      <td>0.88</td>\n",
              "      <td>&lt;tensorflow.python.keras.callbacks.History obj...</td>\n",
              "      <td>&lt;tensorflow.python.keras.engine.sequential.Seq...</td>\n",
              "    </tr>\n",
              "    <tr>\n",
              "      <th>1</th>\n",
              "      <td>0.78</td>\n",
              "      <td>&lt;tensorflow.python.keras.callbacks.History obj...</td>\n",
              "      <td>&lt;tensorflow.python.keras.engine.sequential.Seq...</td>\n",
              "    </tr>\n",
              "    <tr>\n",
              "      <th>2</th>\n",
              "      <td>0.83</td>\n",
              "      <td>&lt;tensorflow.python.keras.callbacks.History obj...</td>\n",
              "      <td>&lt;tensorflow.python.keras.engine.sequential.Seq...</td>\n",
              "    </tr>\n",
              "    <tr>\n",
              "      <th>3</th>\n",
              "      <td>0.82</td>\n",
              "      <td>&lt;tensorflow.python.keras.callbacks.History obj...</td>\n",
              "      <td>&lt;tensorflow.python.keras.engine.sequential.Seq...</td>\n",
              "    </tr>\n",
              "    <tr>\n",
              "      <th>4</th>\n",
              "      <td>0.89</td>\n",
              "      <td>&lt;tensorflow.python.keras.callbacks.History obj...</td>\n",
              "      <td>&lt;tensorflow.python.keras.engine.sequential.Seq...</td>\n",
              "    </tr>\n",
              "    <tr>\n",
              "      <th>5</th>\n",
              "      <td>0.87</td>\n",
              "      <td>&lt;tensorflow.python.keras.callbacks.History obj...</td>\n",
              "      <td>&lt;tensorflow.python.keras.engine.sequential.Seq...</td>\n",
              "    </tr>\n",
              "    <tr>\n",
              "      <th>6</th>\n",
              "      <td>0.88</td>\n",
              "      <td>&lt;tensorflow.python.keras.callbacks.History obj...</td>\n",
              "      <td>&lt;tensorflow.python.keras.engine.sequential.Seq...</td>\n",
              "    </tr>\n",
              "    <tr>\n",
              "      <th>7</th>\n",
              "      <td>0.77</td>\n",
              "      <td>&lt;tensorflow.python.keras.callbacks.History obj...</td>\n",
              "      <td>&lt;tensorflow.python.keras.engine.sequential.Seq...</td>\n",
              "    </tr>\n",
              "    <tr>\n",
              "      <th>8</th>\n",
              "      <td>0.88</td>\n",
              "      <td>&lt;tensorflow.python.keras.callbacks.History obj...</td>\n",
              "      <td>&lt;tensorflow.python.keras.engine.sequential.Seq...</td>\n",
              "    </tr>\n",
              "    <tr>\n",
              "      <th>9</th>\n",
              "      <td>0.82</td>\n",
              "      <td>&lt;tensorflow.python.keras.callbacks.History obj...</td>\n",
              "      <td>&lt;tensorflow.python.keras.engine.sequential.Seq...</td>\n",
              "    </tr>\n",
              "  </tbody>\n",
              "</table>\n",
              "</div>"
            ],
            "text/plain": [
              "    acc  ...                                              model\n",
              "0  0.88  ...  <tensorflow.python.keras.engine.sequential.Seq...\n",
              "1  0.78  ...  <tensorflow.python.keras.engine.sequential.Seq...\n",
              "2  0.83  ...  <tensorflow.python.keras.engine.sequential.Seq...\n",
              "3  0.82  ...  <tensorflow.python.keras.engine.sequential.Seq...\n",
              "4  0.89  ...  <tensorflow.python.keras.engine.sequential.Seq...\n",
              "5  0.87  ...  <tensorflow.python.keras.engine.sequential.Seq...\n",
              "6  0.88  ...  <tensorflow.python.keras.engine.sequential.Seq...\n",
              "7  0.77  ...  <tensorflow.python.keras.engine.sequential.Seq...\n",
              "8  0.88  ...  <tensorflow.python.keras.engine.sequential.Seq...\n",
              "9  0.82  ...  <tensorflow.python.keras.engine.sequential.Seq...\n",
              "\n",
              "[10 rows x 3 columns]"
            ]
          },
          "metadata": {
            "tags": []
          },
          "execution_count": 83
        }
      ]
    },
    {
      "cell_type": "code",
      "metadata": {
        "colab": {
          "base_uri": "https://localhost:8080/",
          "height": 265
        },
        "id": "_j70y-EuRZqc",
        "outputId": "9c93f58e-2b7d-446b-d233-b72c188dbd18"
      },
      "source": [
        "\r\n",
        "\r\n",
        "for index, row in model_output[model_output['acc']>.85].iterrows():\r\n",
        "  plt.plot(row['history'].history['val_accuracy'],label=row['acc'])\r\n",
        "  plt.legend(bbox_to_anchor=(1.05, 1), loc='upper left', borderaxespad=0.)\r\n",
        "\r\n",
        "\r\n"
      ],
      "execution_count": 100,
      "outputs": [
        {
          "output_type": "display_data",
          "data": {
            "image/png": "[encoded data removed]",
            "text/plain": [
              "<Figure size 432x288 with 1 Axes>"
            ]
          },
          "metadata": {
            "tags": [],
            "needs_background": "light"
          }
        }
      ]
    },
    {
      "cell_type": "code",
      "metadata": {
        "id": "dyXIu3-l9RcM"
      },
      "source": [
        "model_output = model_output.join(pd.DataFrame(param_list))"
      ],
      "execution_count": 94,
      "outputs": []
    },
    {
      "cell_type": "code",
      "metadata": {
        "colab": {
          "base_uri": "https://localhost:8080/",
          "height": 195
        },
        "id": "Eq3Ouc_5EO5k",
        "outputId": "f27c3bf1-3806-40ae-de43-e3a883347102"
      },
      "source": [
        "model_output[model_output['acc']>.85]"
      ],
      "execution_count": 105,
      "outputs": [
        {
          "output_type": "execute_result",
          "data": {
            "text/html": [
              "<div>\n",
              "<style scoped>\n",
              "    .dataframe tbody tr th:only-of-type {\n",
              "        vertical-align: middle;\n",
              "    }\n",
              "\n",
              "    .dataframe tbody tr th {\n",
              "        vertical-align: top;\n",
              "    }\n",
              "\n",
              "    .dataframe thead th {\n",
              "        text-align: right;\n",
              "    }\n",
              "</style>\n",
              "<table border=\"1\" class=\"dataframe\">\n",
              "  <thead>\n",
              "    <tr style=\"text-align: right;\">\n",
              "      <th></th>\n",
              "      <th>acc</th>\n",
              "      <th>history</th>\n",
              "      <th>model</th>\n",
              "      <th>neurons</th>\n",
              "      <th>learning_rate</th>\n",
              "    </tr>\n",
              "  </thead>\n",
              "  <tbody>\n",
              "    <tr>\n",
              "      <th>0</th>\n",
              "      <td>0.88</td>\n",
              "      <td>&lt;tensorflow.python.keras.callbacks.History obj...</td>\n",
              "      <td>&lt;tensorflow.python.keras.engine.sequential.Seq...</td>\n",
              "      <td>733.0</td>\n",
              "      <td>0.005041</td>\n",
              "    </tr>\n",
              "    <tr>\n",
              "      <th>4</th>\n",
              "      <td>0.89</td>\n",
              "      <td>&lt;tensorflow.python.keras.callbacks.History obj...</td>\n",
              "      <td>&lt;tensorflow.python.keras.engine.sequential.Seq...</td>\n",
              "      <td>244.0</td>\n",
              "      <td>0.043429</td>\n",
              "    </tr>\n",
              "    <tr>\n",
              "      <th>5</th>\n",
              "      <td>0.87</td>\n",
              "      <td>&lt;tensorflow.python.keras.callbacks.History obj...</td>\n",
              "      <td>&lt;tensorflow.python.keras.engine.sequential.Seq...</td>\n",
              "      <td>404.0</td>\n",
              "      <td>0.061612</td>\n",
              "    </tr>\n",
              "    <tr>\n",
              "      <th>6</th>\n",
              "      <td>0.88</td>\n",
              "      <td>&lt;tensorflow.python.keras.callbacks.History obj...</td>\n",
              "      <td>&lt;tensorflow.python.keras.engine.sequential.Seq...</td>\n",
              "      <td>104.0</td>\n",
              "      <td>0.065653</td>\n",
              "    </tr>\n",
              "    <tr>\n",
              "      <th>8</th>\n",
              "      <td>0.88</td>\n",
              "      <td>&lt;tensorflow.python.keras.callbacks.History obj...</td>\n",
              "      <td>&lt;tensorflow.python.keras.engine.sequential.Seq...</td>\n",
              "      <td>758.0</td>\n",
              "      <td>0.041408</td>\n",
              "    </tr>\n",
              "  </tbody>\n",
              "</table>\n",
              "</div>"
            ],
            "text/plain": [
              "    acc  ... learning_rate\n",
              "0  0.88  ...      0.005041\n",
              "4  0.89  ...      0.043429\n",
              "5  0.87  ...      0.061612\n",
              "6  0.88  ...      0.065653\n",
              "8  0.88  ...      0.041408\n",
              "\n",
              "[5 rows x 5 columns]"
            ]
          },
          "metadata": {
            "tags": []
          },
          "execution_count": 105
        }
      ]
    },
    {
      "cell_type": "code",
      "metadata": {
        "colab": {
          "base_uri": "https://localhost:8080/"
        },
        "id": "0EZX_KSPH9fY",
        "outputId": "50ee93ba-19bc-45a6-8137-5a46361fe57a"
      },
      "source": [
        "model.save('/content/drive/MyDrive/Colab Notebooks/imbd/imbd_model')"
      ],
      "execution_count": 107,
      "outputs": [
        {
          "output_type": "stream",
          "text": [
            "INFO:tensorflow:Assets written to: /content/drive/MyDrive/Colab Notebooks/imbd/imbd_model/assets\n"
          ],
          "name": "stdout"
        }
      ]
    }
  ]
}